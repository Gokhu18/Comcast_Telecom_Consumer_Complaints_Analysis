{
 "cells": [
  {
   "cell_type": "code",
   "execution_count": 1,
   "metadata": {},
   "outputs": [],
   "source": [
    "import pandas as pd\n",
    "import numpy as np\n",
    "import matplotlib.pyplot as plt\n",
    "from datetime import datetime"
   ]
  },
  {
   "cell_type": "code",
   "execution_count": 2,
   "metadata": {},
   "outputs": [
    {
     "name": "stdout",
     "output_type": "stream",
     "text": [
      "C:\\Users\\AMBIKA\\Desktop\\Simplilearn\\1568699544_comcast_telecom_complaints_data\n"
     ]
    }
   ],
   "source": [
    "cd C:\\Users\\AMBIKA\\Desktop\\Simplilearn\\1568699544_comcast_telecom_complaints_data"
   ]
  },
  {
   "cell_type": "code",
   "execution_count": 3,
   "metadata": {},
   "outputs": [],
   "source": [
    "ctcd=pd.read_csv('Comcast_telecom_complaints_data.csv')"
   ]
  },
  {
   "cell_type": "code",
   "execution_count": 4,
   "metadata": {},
   "outputs": [
    {
     "data": {
      "text/html": [
       "<div>\n",
       "<style scoped>\n",
       "    .dataframe tbody tr th:only-of-type {\n",
       "        vertical-align: middle;\n",
       "    }\n",
       "\n",
       "    .dataframe tbody tr th {\n",
       "        vertical-align: top;\n",
       "    }\n",
       "\n",
       "    .dataframe thead th {\n",
       "        text-align: right;\n",
       "    }\n",
       "</style>\n",
       "<table border=\"1\" class=\"dataframe\">\n",
       "  <thead>\n",
       "    <tr style=\"text-align: right;\">\n",
       "      <th></th>\n",
       "      <th>Ticket #</th>\n",
       "      <th>Customer Complaint</th>\n",
       "      <th>Date</th>\n",
       "      <th>Date_month_year</th>\n",
       "      <th>Time</th>\n",
       "      <th>Received Via</th>\n",
       "      <th>City</th>\n",
       "      <th>State</th>\n",
       "      <th>Zip code</th>\n",
       "      <th>Status</th>\n",
       "      <th>Filing on Behalf of Someone</th>\n",
       "    </tr>\n",
       "  </thead>\n",
       "  <tbody>\n",
       "    <tr>\n",
       "      <th>0</th>\n",
       "      <td>250635</td>\n",
       "      <td>Comcast Cable Internet Speeds</td>\n",
       "      <td>22-04-15</td>\n",
       "      <td>22-Apr-15</td>\n",
       "      <td>3:53:50 PM</td>\n",
       "      <td>Customer Care Call</td>\n",
       "      <td>Abingdon</td>\n",
       "      <td>Maryland</td>\n",
       "      <td>21009</td>\n",
       "      <td>Closed</td>\n",
       "      <td>No</td>\n",
       "    </tr>\n",
       "    <tr>\n",
       "      <th>1</th>\n",
       "      <td>223441</td>\n",
       "      <td>Payment disappear - service got disconnected</td>\n",
       "      <td>04-08-15</td>\n",
       "      <td>04-Aug-15</td>\n",
       "      <td>10:22:56 AM</td>\n",
       "      <td>Internet</td>\n",
       "      <td>Acworth</td>\n",
       "      <td>Georgia</td>\n",
       "      <td>30102</td>\n",
       "      <td>Closed</td>\n",
       "      <td>No</td>\n",
       "    </tr>\n",
       "  </tbody>\n",
       "</table>\n",
       "</div>"
      ],
      "text/plain": [
       "  Ticket #                            Customer Complaint      Date  \\\n",
       "0   250635                 Comcast Cable Internet Speeds  22-04-15   \n",
       "1   223441  Payment disappear - service got disconnected  04-08-15   \n",
       "\n",
       "  Date_month_year         Time        Received Via      City     State  \\\n",
       "0       22-Apr-15   3:53:50 PM  Customer Care Call  Abingdon  Maryland   \n",
       "1       04-Aug-15  10:22:56 AM            Internet   Acworth   Georgia   \n",
       "\n",
       "   Zip code  Status Filing on Behalf of Someone  \n",
       "0     21009  Closed                          No  \n",
       "1     30102  Closed                          No  "
      ]
     },
     "execution_count": 4,
     "metadata": {},
     "output_type": "execute_result"
    }
   ],
   "source": [
    "ctcd.head(2)"
   ]
  },
  {
   "cell_type": "code",
   "execution_count": 5,
   "metadata": {},
   "outputs": [],
   "source": [
    "ctcd['Date_month_year']=ctcd['Date_month_year'].astype(str)\n",
    "ctcd['Time']=ctcd['Time'].astype(str)\n",
    "ctcd['month']=\"\"\n",
    "\n",
    "ctcd['day']=\"\""
   ]
  },
  {
   "cell_type": "code",
   "execution_count": 6,
   "metadata": {},
   "outputs": [],
   "source": [
    "l=len(ctcd['month'])"
   ]
  },
  {
   "cell_type": "code",
   "execution_count": 7,
   "metadata": {},
   "outputs": [],
   "source": [
    "#Getting month and day column\n",
    "for i in range(0,l):\n",
    "    \n",
    "    ctcd.loc[i,'Date_month_year']=datetime.strptime(ctcd['Date_month_year'][i],\"%d-%b-%y\")\n",
    "    ctcd.loc[i,'month']=ctcd['Date_month_year'][i].month\n",
    "    ctcd.loc[i,'day']=ctcd['Date_month_year'][i].day\n",
    "    "
   ]
  },
  {
   "cell_type": "code",
   "execution_count": 8,
   "metadata": {},
   "outputs": [],
   "source": [
    "# Getting Freq of complaints on daily basis\n",
    "    \n",
    "day_plot=ctcd['day'].value_counts()\n"
   ]
  },
  {
   "cell_type": "code",
   "execution_count": 9,
   "metadata": {},
   "outputs": [],
   "source": [
    "#creating Dataframe of Complaints on daily basis\n",
    "day_plot1=pd.DataFrame({'Day':day_plot.index,'Freq':day_plot.values})\n",
    "day_plot1.sort_values(by='Day',inplace=True)\n"
   ]
  },
  {
   "cell_type": "code",
   "execution_count": 10,
   "metadata": {},
   "outputs": [
    {
     "data": {
      "image/png": "[encoded data removed]",
      "text/plain": [
       "<Figure size 432x288 with 1 Axes>"
      ]
     },
     "metadata": {
      "needs_background": "light"
     },
     "output_type": "display_data"
    }
   ],
   "source": [
    "#plotting line graph\n",
    "x=day_plot1['Day']\n",
    "y=day_plot1['Freq']\n",
    "plt.plot(x,y)\n",
    "plt.title('complaints Chart on Daily basis',fontsize=18,color='Red')\n",
    "plt.xlabel('Day of Month',fontsize=18)\n",
    "plt.ylabel('No.of complaints',fontsize=18)\n",
    "plt.show()"
   ]
  },
  {
   "cell_type": "code",
   "execution_count": 11,
   "metadata": {},
   "outputs": [],
   "source": [
    "# Getting Freq of complaints on monthly basis\n",
    "mon_plot=ctcd['month'].value_counts()"
   ]
  },
  {
   "cell_type": "code",
   "execution_count": 12,
   "metadata": {},
   "outputs": [],
   "source": [
    "#creating Dataframe of Complaints on monthly basis\n",
    "df=pd.DataFrame({'Month':mon_plot.index,'Freq':mon_plot.values})\n",
    "\n",
    "df.sort_values(by='Month',inplace=True)\n",
    "df['Month']=df['Month'].astype(str)"
   ]
  },
  {
   "cell_type": "code",
   "execution_count": 13,
   "metadata": {},
   "outputs": [],
   "source": [
    "#converting number to alphebtical of months\n",
    "l1=len(df['Month'])\n",
    "for i in range(0,l1):\n",
    "    #print(ctcd['month'][i])\n",
    "    #ctcd['month'][i]=ctcd['month'][i].astype(str)\n",
    "    df.loc[i,'Month']=datetime.strptime(df['Month'][i],\"%m\")\n",
    "    df.loc[i,'Month']=df['Month'][i].strftime(\"%b\")\n",
    "    "
   ]
  },
  {
   "cell_type": "code",
   "execution_count": 14,
   "metadata": {},
   "outputs": [
    {
     "data": {
      "image/png": "[encoded data removed]",
      "text/plain": [
       "<Figure size 432x288 with 1 Axes>"
      ]
     },
     "metadata": {
      "needs_background": "light"
     },
     "output_type": "display_data"
    }
   ],
   "source": [
    "#plotting line graph for monthly basis\n",
    "x=df['Month']\n",
    "y=df['Freq']\n",
    "plt.plot(x, y)\n",
    "plt.title('complaints Chart on monthly basis',fontsize=18,color='red')\n",
    "plt.xlabel('Month in Year',fontsize=18)\n",
    "plt.ylabel('No.of complaints',fontsize=18)\n",
    "\n",
    "plt.show()"
   ]
  },
  {
   "cell_type": "code",
   "execution_count": 15,
   "metadata": {},
   "outputs": [
    {
     "name": "stdout",
     "output_type": "stream",
     "text": [
      "                                Customer Complaint Type  Freq\n",
      "0                                               Comcast    83\n",
      "1                                      Comcast Internet    18\n",
      "2                                      Comcast Data Cap    17\n",
      "3                                               comcast    13\n",
      "4                                     Comcast Data Caps    11\n",
      "5                                             Data Caps    11\n",
      "6                                       Comcast Billing    11\n",
      "7                              Unfair Billing Practices     9\n",
      "8                                        Internet speed     8\n",
      "9                                      Comcast internet     8\n",
      "10                                     Comcast data cap     8\n",
      "11                                    Comcast data caps     8\n",
      "12                                      Comcast/Xfinity     8\n",
      "13                                             Data Cap     8\n",
      "14                                              COMCAST     6\n",
      "15                                      Comcast Service     6\n",
      "16                                              Billing     6\n",
      "17                                      Comcast service     6\n",
      "18                                      Comcast billing     6\n",
      "19                             Comcast Internet Service     5\n",
      "20                                       Internet Speed     5\n",
      "21                                    Comcast Complaint     5\n",
      "22                                    Comcast complaint     5\n",
      "23                                     Internet service     4\n",
      "24                           Comcast Internet Complaint     4\n",
      "25                                        Slow Internet     4\n",
      "26                             Comcast internet service     4\n",
      "27                                          availabilty     4\n",
      "28                     Comcast Unfair Billing Practices     4\n",
      "29                                       Comcast Issues     4\n",
      "...                                                 ...   ...\n",
      "1811                             Comcast internet/cable     1\n",
      "1812  Comcast - Incorrect Billing Issues - Has Happe...     1\n",
      "1813  Re: Unfair Billing Practices Complaints agains...     1\n",
      "1814                                 Comcast ETF charge     1\n",
      "1815                        Issues with Xfinity/Comcast     1\n",
      "1816  Comcast Internet Speed/Quality of Service and ...     1\n",
      "1817                          Deceptive sales practices     1\n",
      "1818                  Comcast/Xfinity Internet Data Cap     1\n",
      "1819                                   Comcast Problems     1\n",
      "1820                               Comcast Wifi Service     1\n",
      "1821  Apartment Management's Exclusivity Contract wi...     1\n",
      "1822                                         300 gb cap     1\n",
      "1823           Multiple billing an dcompetative issues.     1\n",
      "1824                   Comcast Xfinity 300G over charge     1\n",
      "1825                        Dishonest Billing Practices     1\n",
      "1826                          terrible internet quality     1\n",
      "1827  Uncompetitive pricing of Comcast Internet serv...     1\n",
      "1828  Horrible customer service; could not help me -...     1\n",
      "1829                Comcast bill and service disclosure     1\n",
      "1830                               Data Caps by Comcast     1\n",
      "1831                                  Comcast Rate Hike     1\n",
      "1832     Deceptive sales- change in billing amount etc.     1\n",
      "1833                  No way to see when promotions end     1\n",
      "1834                                               pmts     1\n",
      "1835                          internet and tv problems.     1\n",
      "1836                                   Unclear policies     1\n",
      "1837                   Comcast Internet prices & speeds     1\n",
      "1838                                   Pricing Concerns     1\n",
      "1839                               Xfinity Order Status     1\n",
      "1840          Poor service/paying for unusable services     1\n",
      "\n",
      "[1841 rows x 2 columns]\n"
     ]
    }
   ],
   "source": [
    "#Frequecy of complaint types\n",
    "\n",
    "fct=ctcd['Customer Complaint'].value_counts()\n",
    "fct1=pd.DataFrame({'Customer Complaint Type':fct.index,'Freq':fct.values})\n",
    "print(fct1)"
   ]
  },
  {
   "cell_type": "code",
   "execution_count": 16,
   "metadata": {},
   "outputs": [],
   "source": [
    "#creating categorical variable with value as Open and Closed.\n",
    "ctcd['cv']=ctcd['Status']\n",
    "status_mapping={'Open':'Open','Pending':'Open','Closed':'Closed','Solved':'Closed'}\n",
    "ctcd['cv']=ctcd['cv'].map(status_mapping)"
   ]
  },
  {
   "cell_type": "code",
   "execution_count": 17,
   "metadata": {},
   "outputs": [
    {
     "data": {
      "text/plain": [
       "<matplotlib.axes._subplots.AxesSubplot at 0x18790aeea90>"
      ]
     },
     "execution_count": 17,
     "metadata": {},
     "output_type": "execute_result"
    },
    {
     "data": {
      "image/png": "[encoded data removed]",
      "text/plain": [
       "<Figure size 432x288 with 1 Axes>"
      ]
     },
     "metadata": {
      "needs_background": "light"
     },
     "output_type": "display_data"
    }
   ],
   "source": [
    "#state wise status of complaints in a stacked bar chart\n",
    "cs = pd.crosstab(index=ctcd['State'], columns=ctcd['cv'])\n",
    "#print(cs)\n",
    "cs.plot(kind='bar', stacked=True)"
   ]
  },
  {
   "cell_type": "code",
   "execution_count": 18,
   "metadata": {},
   "outputs": [
    {
     "name": "stdout",
     "output_type": "stream",
     "text": [
      "Georgia\n"
     ]
    }
   ],
   "source": [
    "#Retrievieng th state that has the maximum complaints\n",
    "cs['tc']=cs['Closed']+cs['Open']\n",
    "print(cs['tc'].idxmax())"
   ]
  },
  {
   "cell_type": "code",
   "execution_count": 19,
   "metadata": {},
   "outputs": [
    {
     "name": "stdout",
     "output_type": "stream",
     "text": [
      "Kansas\n"
     ]
    }
   ],
   "source": [
    "#Retrievieng th state that has the highest percentage of unresolved complaints\n",
    "cs['URP']=((cs['Open'])/cs['tc'])*100\n",
    "#print(cs)\n",
    "print(cs['URP'].idxmax())\n"
   ]
  },
  {
   "cell_type": "code",
   "execution_count": 20,
   "metadata": {},
   "outputs": [
    {
     "name": "stdout",
     "output_type": "stream",
     "text": [
      "Received Via\n",
      "Customer Care Call    77.211796\n",
      "Internet              76.289593\n",
      "Name: RP, dtype: float64\n"
     ]
    }
   ],
   "source": [
    "#the percentage of complaints resolved till date, which were received through the Internet and customer care calls.\n",
    "cs1 = pd.crosstab(index=ctcd['Received Via'], columns=ctcd['cv'])\n",
    "\n",
    "cs1['tc']=cs1['Closed']+cs1['Open']\n",
    "cs1['RP']=((cs1['Closed'])/cs1['tc'])*100\n",
    "print(cs1['RP'])"
   ]
  },
  {
   "cell_type": "code",
   "execution_count": null,
   "metadata": {},
   "outputs": [],
   "source": []
  },
  {
   "cell_type": "code",
   "execution_count": null,
   "metadata": {},
   "outputs": [],
   "source": []
  }
 ],
 "metadata": {
  "kernelspec": {
   "display_name": "Python 3",
   "language": "python",
   "name": "python3"
  },
  "language_info": {
   "codemirror_mode": {
    "name": "ipython",
    "version": 3
   },
   "file_extension": ".py",
   "mimetype": "text/x-python",
   "name": "python",
   "nbconvert_exporter": "python",
   "pygments_lexer": "ipython3",
   "version": "3.7.3"
  }
 },
 "nbformat": 4,
 "nbformat_minor": 2
}
